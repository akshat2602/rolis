{
 "cells": [
  {
   "cell_type": "code",
   "execution_count": 2,
   "metadata": {},
   "outputs": [],
   "source": [
    "import mysql.connector"
   ]
  },
  {
   "cell_type": "code",
   "execution_count": 3,
   "metadata": {},
   "outputs": [],
   "source": [
    "mydb = mysql.connector.connect(\n",
    "  host=\"localhost\",\n",
    "  user=\"root\",\n",
    "  database=\"silo_20_20\"\n",
    ")\n",
    "\n",
    "mycursor = mydb.cursor()"
   ]
  },
  {
   "cell_type": "code",
   "execution_count": 3,
   "metadata": {},
   "outputs": [],
   "source": [
    "def saveByFileId(ii):\n",
    "    file_name = \"E:\\GenLogThd20.Time.20\\Log-ThreadID^%\" + str(ii) + \".txt.log\"\n",
    "    file = open(file_name,mode='r')\n",
    " \n",
    "    # read all lines at once\n",
    "    all_of_it = file.read()\n",
    "    print(\"############## starting processing: \" + str(ii))\n",
    "    rows = all_of_it.split(\"\\n\")\n",
    "    \n",
    "    sql = \"INSERT INTO data0 (cid, k, v, tid, tname, isDeleted, file_idx) VALUES (%s, %s, %s, %s, %s, %s, %s)\"\n",
    "    \n",
    "    values = []\n",
    "    for i in range(len(rows)):\n",
    "        cols = rows[i].split(\",\")\n",
    "        if len(cols) < 6:\n",
    "            continue\n",
    "            \n",
    "        values.append(\n",
    "          (cols[0], cols[1], cols[2], cols[3], cols[4], cols[5], ii)\n",
    "        )\n",
    "\n",
    "        if len(values) == 300:\n",
    "            mycursor.executemany(sql, values)\n",
    "            mydb.commit()\n",
    "            values = []\n",
    "                \n",
    "    if len(values) > 0:\n",
    "        mycursor.executemany(sql, values)\n",
    "        mydb.commit()\n",
    "            \n",
    "    # close the file\n",
    "    file.close()"
   ]
  },
  {
   "cell_type": "code",
   "execution_count": 16,
   "metadata": {},
   "outputs": [
    {
     "name": "stdout",
     "output_type": "stream",
     "text": [
      "############## starting processing: 0\n"
     ]
    }
   ],
   "source": [
    "saveByFileId(0)"
   ]
  },
  {
   "cell_type": "code",
   "execution_count": 17,
   "metadata": {},
   "outputs": [
    {
     "name": "stdout",
     "output_type": "stream",
     "text": [
      "############## starting processing: 68\n"
     ]
    }
   ],
   "source": [
    "saveByFileId(68)"
   ]
  },
  {
   "cell_type": "code",
   "execution_count": 4,
   "metadata": {},
   "outputs": [
    {
     "name": "stdout",
     "output_type": "stream",
     "text": [
      "############## starting processing: 1\n"
     ]
    }
   ],
   "source": [
    "saveByFileId(1)"
   ]
  },
  {
   "cell_type": "code",
   "execution_count": 5,
   "metadata": {},
   "outputs": [
    {
     "name": "stdout",
     "output_type": "stream",
     "text": [
      "############## starting processing: 69\n"
     ]
    }
   ],
   "source": [
    "saveByFileId(69)"
   ]
  },
  {
   "cell_type": "code",
   "execution_count": 4,
   "metadata": {},
   "outputs": [],
   "source": [
    "import collections\n",
    "def checkOneTransaction(ii):\n",
    "    file_name = \"E:\\GenLogThd20.Time.20\\Log-ThreadID^%\" + str(ii) + \".txt.log\"\n",
    "    file = open(file_name,mode='r')\n",
    " \n",
    "    # read all lines at once\n",
    "    all_of_it = file.read()\n",
    "    print(\"############## starting processing: \" + str(ii))\n",
    "    rows = all_of_it.split(\"\\n\")\n",
    "    \n",
    "    inTrans = collections.defaultdict(list)\n",
    "    \n",
    "    for i in range(len(rows)):\n",
    "        cols = rows[i].split(\",\")\n",
    "        if len(cols) < 6:\n",
    "            continue\n",
    "        \n",
    "        inTrans[cols[0]].append(cols[4])\n",
    "    return inTrans"
   ]
  },
  {
   "cell_type": "code",
   "execution_count": 5,
   "metadata": {},
   "outputs": [
    {
     "name": "stdout",
     "output_type": "stream",
     "text": [
      "############## starting processing: 68\n"
     ]
    }
   ],
   "source": [
    "inTrans = checkOneTransaction(68)"
   ]
  },
  {
   "cell_type": "code",
   "execution_count": 6,
   "metadata": {},
   "outputs": [
    {
     "ename": "NameError",
     "evalue": "name 'cnt' is not defined",
     "output_type": "error",
     "traceback": [
      "\u001b[1;31m---------------------------------------------------------------------------\u001b[0m",
      "\u001b[1;31mNameError\u001b[0m                                 Traceback (most recent call last)",
      "\u001b[1;32m<ipython-input-6-5396f5a5708f>\u001b[0m in \u001b[0;36m<module>\u001b[1;34m\u001b[0m\n\u001b[0;32m      7\u001b[0m                 \u001b[1;32mif\u001b[0m \u001b[0mlevel\u001b[0m \u001b[1;33m!=\u001b[0m \u001b[0mint\u001b[0m\u001b[1;33m(\u001b[0m\u001b[0mtbl\u001b[0m\u001b[1;33m.\u001b[0m\u001b[0msplit\u001b[0m\u001b[1;33m(\u001b[0m\u001b[1;34m\"_\"\u001b[0m\u001b[1;33m)\u001b[0m\u001b[1;33m[\u001b[0m\u001b[1;33m-\u001b[0m\u001b[1;36m1\u001b[0m\u001b[1;33m]\u001b[0m\u001b[1;33m)\u001b[0m\u001b[1;33m:\u001b[0m\u001b[1;33m\u001b[0m\u001b[1;33m\u001b[0m\u001b[0m\n\u001b[0;32m      8\u001b[0m                     \u001b[1;31m# print(k, tbls)\u001b[0m\u001b[1;33m\u001b[0m\u001b[1;33m\u001b[0m\u001b[1;33m\u001b[0m\u001b[0m\n\u001b[1;32m----> 9\u001b[1;33m                     \u001b[0mcnt\u001b[0m \u001b[1;33m+=\u001b[0m \u001b[1;36m1\u001b[0m\u001b[1;33m\u001b[0m\u001b[1;33m\u001b[0m\u001b[0m\n\u001b[0m\u001b[0;32m     10\u001b[0m                     \u001b[1;32mbreak\u001b[0m\u001b[1;33m\u001b[0m\u001b[1;33m\u001b[0m\u001b[0m\n\u001b[0;32m     11\u001b[0m             \u001b[1;32melse\u001b[0m\u001b[1;33m:\u001b[0m\u001b[1;33m\u001b[0m\u001b[1;33m\u001b[0m\u001b[0m\n",
      "\u001b[1;31mNameError\u001b[0m: name 'cnt' is not defined"
     ]
    }
   ],
   "source": [
    "cnt = 0\n",
    "for k, tbls in inTrans.items():\n",
    "    level = -1\n",
    "    for tbl in tbls:\n",
    "        if tbl.split(\"_\")[-1].isnumeric():\n",
    "            if level != -1:\n",
    "                if level != int(tbl.split(\"_\")[-1]):\n",
    "                    # print(k, tbls)\n",
    "                    cnt += 1\n",
    "                    break\n",
    "            else:\n",
    "                level = int(tbl.split(\"_\")[-1])\n",
    "\n",
    "print(cnt / len(inTrans))"
   ]
  },
  {
   "cell_type": "code",
   "execution_count": null,
   "metadata": {},
   "outputs": [],
   "source": []
  }
 ],
 "metadata": {
  "kernelspec": {
   "display_name": "Python 3",
   "language": "python",
   "name": "python3"
  },
  "language_info": {
   "codemirror_mode": {
    "name": "ipython",
    "version": 3
   },
   "file_extension": ".py",
   "mimetype": "text/x-python",
   "name": "python",
   "nbconvert_exporter": "python",
   "pygments_lexer": "ipython3",
   "version": "3.8.6"
  }
 },
 "nbformat": 4,
 "nbformat_minor": 4
}
